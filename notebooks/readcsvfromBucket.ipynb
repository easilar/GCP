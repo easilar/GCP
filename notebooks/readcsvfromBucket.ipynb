{
 "cells": [
  {
   "cell_type": "code",
   "execution_count": 1,
   "metadata": {},
   "outputs": [],
   "source": [
    "import pandas as pd\n",
    "import matplotlib.pyplot as plt\n",
    "import seaborn as sns"
   ]
  },
  {
   "cell_type": "code",
   "execution_count": 2,
   "metadata": {},
   "outputs": [
    {
     "name": "stderr",
     "output_type": "stream",
     "text": [
      "/usr/local/envs/py2env/lib/python2.7/site-packages/h5py/__init__.py:36: FutureWarning: Conversion of the second argument of issubdtype from `float` to `np.floating` is deprecated. In future, it will be treated as `np.float64 == np.dtype(float).type`.\n",
      "  from ._conv import register_converters as _register_converters\n"
     ]
    }
   ],
   "source": [
    "from io import BytesIO\n",
    "import tensorflow as tf"
   ]
  },
  {
   "cell_type": "code",
   "execution_count": 4,
   "metadata": {},
   "outputs": [
    {
     "name": "stdout",
     "output_type": "stream",
     "text": [
      "Collecting gcsfs\n",
      "  Downloading https://files.pythonhosted.org/packages/30/7b/bb9dd860c64f15a06fdefdd3ea6c30ae336f3f5524f800cac59592769bf7/gcsfs-0.2.1.tar.gz (51kB)\n",
      "Requirement already satisfied: google-auth>=1.2 in /usr/local/envs/py2env/lib/python2.7/site-packages (from gcsfs) (1.6.2)\n",
      "Requirement already satisfied: google-auth-oauthlib in /usr/local/envs/py2env/lib/python2.7/site-packages (from gcsfs) (0.1.0)\n",
      "Requirement already satisfied: requests in /usr/local/envs/py2env/lib/python2.7/site-packages (from gcsfs) (2.18.4)\n",
      "Requirement already satisfied: decorator in /usr/local/envs/py2env/lib/python2.7/site-packages (from gcsfs) (4.3.0)\n",
      "Requirement already satisfied: pyasn1-modules>=0.2.1 in /usr/local/envs/py2env/lib/python2.7/site-packages (from google-auth>=1.2->gcsfs) (0.2.2)\n",
      "Requirement already satisfied: cachetools>=2.0.0 in /usr/local/envs/py2env/lib/python2.7/site-packages (from google-auth>=1.2->gcsfs) (2.1.0)\n",
      "Requirement already satisfied: six>=1.9.0 in /usr/local/envs/py2env/lib/python2.7/site-packages (from google-auth>=1.2->gcsfs) (1.10.0)\n",
      "Requirement already satisfied: rsa>=3.1.4 in /usr/local/envs/py2env/lib/python2.7/site-packages (from google-auth>=1.2->gcsfs) (3.4.2)\n",
      "Requirement already satisfied: requests-oauthlib>=0.7.0 in /usr/local/envs/py2env/lib/python2.7/site-packages (from google-auth-oauthlib->gcsfs) (0.8.0)\n",
      "Requirement already satisfied: chardet<3.1.0,>=3.0.2 in /usr/local/envs/py2env/lib/python2.7/site-packages (from requests->gcsfs) (3.0.4)\n",
      "Requirement already satisfied: idna<2.7,>=2.5 in /usr/local/envs/py2env/lib/python2.7/site-packages (from requests->gcsfs) (2.6)\n",
      "Requirement already satisfied: urllib3<1.23,>=1.21.1 in /usr/local/envs/py2env/lib/python2.7/site-packages (from requests->gcsfs) (1.22)\n",
      "Requirement already satisfied: certifi>=2017.4.17 in /usr/local/envs/py2env/lib/python2.7/site-packages (from requests->gcsfs) (2018.11.29)\n",
      "Requirement already satisfied: pyasn1<0.5.0,>=0.4.1 in /usr/local/envs/py2env/lib/python2.7/site-packages (from pyasn1-modules>=0.2.1->google-auth>=1.2->gcsfs) (0.4.4)\n",
      "Requirement already satisfied: oauthlib>=0.6.2 in /usr/local/envs/py2env/lib/python2.7/site-packages (from requests-oauthlib>=0.7.0->google-auth-oauthlib->gcsfs) (2.1.0)\n",
      "Building wheels for collected packages: gcsfs\n",
      "  Running setup.py bdist_wheel for gcsfs: started\n",
      "  Running setup.py bdist_wheel for gcsfs: finished with status 'done'\n",
      "  Stored in directory: /content/.cache/pip/wheels/58/b5/19/7b0e8a870ef16e1c0b8eee819c511c789be5cde308e59f2752\n",
      "Successfully built gcsfs\n",
      "Installing collected packages: gcsfs\n",
      "Successfully installed gcsfs-0.2.1\n"
     ]
    }
   ],
   "source": [
    "%%bash\n",
    "pip install gcsfs"
   ]
  },
  {
   "cell_type": "code",
   "execution_count": 5,
   "metadata": {},
   "outputs": [],
   "source": [
    "import gcsfs"
   ]
  },
  {
   "cell_type": "code",
   "execution_count": 6,
   "metadata": {},
   "outputs": [],
   "source": [
    "fs = gcsfs.GCSFileSystem(project='buoyant-yew-223720 ')"
   ]
  },
  {
   "cell_type": "code",
   "execution_count": 12,
   "metadata": {},
   "outputs": [
    {
     "data": {
      "text/plain": [
       "[u'buoyant-yew-223720/TestFiles/mol_title_Row4_Row2_nrow_21871_ID_TOX5879_angles_0_45.jpeg',\n",
       " u'buoyant-yew-223720/TestFiles/Tox21_2_32.csv',\n",
       " u'buoyant-yew-223720/TestFiles/']"
      ]
     },
     "execution_count": 12,
     "metadata": {},
     "output_type": "execute_result"
    }
   ],
   "source": [
    "fs.ls('buoyant-yew-223720/TestFiles/')"
   ]
  },
  {
   "cell_type": "code",
   "execution_count": 9,
   "metadata": {},
   "outputs": [],
   "source": [
    "with fs.open('buoyant-yew-223720/TestFiles/Tox21_2_32.csv', 'rb') as f:\n",
    "  df_1 = pd.read_csv(f)"
   ]
  },
  {
   "cell_type": "code",
   "execution_count": 3,
   "metadata": {},
   "outputs": [],
   "source": [
    "from tensorflow.python.lib.io import file_io\n",
    "with file_io.FileIO('gs://buoyant-yew-223720/TestFiles/Tox21_2_32.csv', 'r') as f:\n",
    "  df_2 = pd.read_csv(f)"
   ]
  },
  {
   "cell_type": "code",
   "execution_count": 4,
   "metadata": {},
   "outputs": [
    {
     "ename": "NameError",
     "evalue": "name 'df_1' is not defined",
     "output_type": "error",
     "traceback": [
      "\u001b[0;31m\u001b[0m",
      "\u001b[0;31mNameError\u001b[0mTraceback (most recent call last)",
      "\u001b[0;32m<ipython-input-4-8152decde844>\u001b[0m in \u001b[0;36m<module>\u001b[0;34m()\u001b[0m\n\u001b[0;32m----> 1\u001b[0;31m \u001b[0mdf_1\u001b[0m\u001b[0;34m.\u001b[0m\u001b[0mhead\u001b[0m\u001b[0;34m(\u001b[0m\u001b[0;36m2\u001b[0m\u001b[0;34m)\u001b[0m\u001b[0;34m\u001b[0m\u001b[0m\n\u001b[0m",
      "\u001b[0;31mNameError\u001b[0m: name 'df_1' is not defined"
     ]
    }
   ],
   "source": [
    "df_1.head(2)"
   ]
  },
  {
   "cell_type": "code",
   "execution_count": 5,
   "metadata": {},
   "outputs": [
    {
     "data": {
      "text/html": [
       "<div>\n",
       "<style scoped>\n",
       "    .dataframe tbody tr th:only-of-type {\n",
       "        vertical-align: middle;\n",
       "    }\n",
       "\n",
       "    .dataframe tbody tr th {\n",
       "        vertical-align: top;\n",
       "    }\n",
       "\n",
       "    .dataframe thead th {\n",
       "        text-align: right;\n",
       "    }\n",
       "</style>\n",
       "<table border=\"1\" class=\"dataframe\">\n",
       "  <thead>\n",
       "    <tr style=\"text-align: right;\">\n",
       "      <th></th>\n",
       "      <th>ID</th>\n",
       "      <th>OPT</th>\n",
       "      <th>LR</th>\n",
       "      <th>MOM</th>\n",
       "      <th>ACT</th>\n",
       "      <th>ACT_LAST</th>\n",
       "      <th>EPOCHS</th>\n",
       "      <th>BATCHSIZE</th>\n",
       "      <th>NLAYERS</th>\n",
       "      <th>NDENSE</th>\n",
       "      <th>...</th>\n",
       "      <th>AUC_ROC</th>\n",
       "      <th>SENS</th>\n",
       "      <th>SPEC</th>\n",
       "      <th>BACC</th>\n",
       "      <th>AGG_BACC</th>\n",
       "      <th>SD_BACC</th>\n",
       "      <th>Unnamed: 27</th>\n",
       "      <th>Unnamed: 28</th>\n",
       "      <th>Unnamed: 29</th>\n",
       "      <th>Unnamed: 30</th>\n",
       "    </tr>\n",
       "  </thead>\n",
       "  <tbody>\n",
       "    <tr>\n",
       "      <th>0</th>\n",
       "      <td>1540573064_4151793</td>\n",
       "      <td>Adadelta</td>\n",
       "      <td>1</td>\n",
       "      <td>0.95</td>\n",
       "      <td>relu</td>\n",
       "      <td>softmax</td>\n",
       "      <td>250</td>\n",
       "      <td>16</td>\n",
       "      <td>3</td>\n",
       "      <td>100</td>\n",
       "      <td>...</td>\n",
       "      <td>0.710888</td>\n",
       "      <td>0.643872</td>\n",
       "      <td>0.659341</td>\n",
       "      <td>0.651607</td>\n",
       "      <td>0.65613</td>\n",
       "      <td>0.014834</td>\n",
       "      <td>NaN</td>\n",
       "      <td>NaN</td>\n",
       "      <td>MAX</td>\n",
       "      <td>MIN</td>\n",
       "    </tr>\n",
       "    <tr>\n",
       "      <th>1</th>\n",
       "      <td>1540586701_7936087</td>\n",
       "      <td>Adadelta</td>\n",
       "      <td>1</td>\n",
       "      <td>0.95</td>\n",
       "      <td>relu</td>\n",
       "      <td>softmax</td>\n",
       "      <td>250</td>\n",
       "      <td>16</td>\n",
       "      <td>3</td>\n",
       "      <td>100</td>\n",
       "      <td>...</td>\n",
       "      <td>0.745128</td>\n",
       "      <td>0.646528</td>\n",
       "      <td>0.709617</td>\n",
       "      <td>0.678073</td>\n",
       "      <td>NaN</td>\n",
       "      <td>NaN</td>\n",
       "      <td>NaN</td>\n",
       "      <td>NaN</td>\n",
       "      <td>0.7016753668</td>\n",
       "      <td>0.596950844</td>\n",
       "    </tr>\n",
       "  </tbody>\n",
       "</table>\n",
       "<p>2 rows × 31 columns</p>\n",
       "</div>"
      ],
      "text/plain": [
       "                   ID       OPT  LR   MOM   ACT ACT_LAST  EPOCHS  BATCHSIZE  \\\n",
       "0  1540573064_4151793  Adadelta   1  0.95  relu  softmax     250         16   \n",
       "1  1540586701_7936087  Adadelta   1  0.95  relu  softmax     250         16   \n",
       "\n",
       "   NLAYERS  NDENSE     ...        AUC_ROC      SENS      SPEC      BACC  \\\n",
       "0        3     100     ...       0.710888  0.643872  0.659341  0.651607   \n",
       "1        3     100     ...       0.745128  0.646528  0.709617  0.678073   \n",
       "\n",
       "   AGG_BACC   SD_BACC  Unnamed: 27  Unnamed: 28   Unnamed: 29  Unnamed: 30  \n",
       "0   0.65613  0.014834          NaN          NaN           MAX          MIN  \n",
       "1       NaN       NaN          NaN          NaN  0.7016753668  0.596950844  \n",
       "\n",
       "[2 rows x 31 columns]"
      ]
     },
     "execution_count": 5,
     "metadata": {},
     "output_type": "execute_result"
    }
   ],
   "source": [
    "df_2.head(2)"
   ]
  },
  {
   "cell_type": "code",
   "execution_count": 19,
   "metadata": {},
   "outputs": [
    {
     "name": "stderr",
     "output_type": "stream",
     "text": [
      "/usr/local/envs/py2env/lib/python2.7/site-packages/matplotlib/font_manager.py:1320: UserWarning: findfont: Font family [u'sans-serif'] not found. Falling back to DejaVu Sans\n",
      "  (prop.get_family(), self.defaultFamily[fontext]))\n"
     ]
    },
    {
     "data": {
      "text/plain": [
       "<seaborn.axisgrid.FacetGrid at 0x7f1323f64710>"
      ]
     },
     "execution_count": 19,
     "metadata": {},
     "output_type": "execute_result"
    },
    {
     "data": {
      "image/png": "[encoded data removed]",
      "text/plain": [
       "<matplotlib.figure.Figure at 0x7f1323f64790>"
      ]
     },
     "metadata": {},
     "output_type": "display_data"
    }
   ],
   "source": [
    "sns.lmplot(\"SENS\", \"SPEC\", data=df_1)"
   ]
  }
 ],
 "metadata": {
  "kernelspec": {
   "display_name": "Python 2",
   "language": "python",
   "name": "python2"
  },
  "language_info": {
   "codemirror_mode": {
    "name": "ipython",
    "version": 2
   },
   "file_extension": ".py",
   "mimetype": "text/x-python",
   "name": "python",
   "nbconvert_exporter": "python",
   "pygments_lexer": "ipython2",
   "version": "2.7.15"
  }
 },
 "nbformat": 4,
 "nbformat_minor": 2
}
